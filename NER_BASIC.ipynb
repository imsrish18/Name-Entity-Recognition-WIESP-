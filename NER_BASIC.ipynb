{
 "cells": [
  {
   "cell_type": "code",
   "execution_count": 1,
   "id": "f92c0768",
   "metadata": {
    "scrolled": true
   },
   "outputs": [],
   "source": [
    "# !pip install datasets\n",
    "#!pip install pydot"
   ]
  },
  {
   "cell_type": "code",
   "execution_count": 61,
   "id": "3b0ccec2",
   "metadata": {},
   "outputs": [
    {
     "name": "stdout",
     "output_type": "stream",
     "text": [
      "Tensor Flow Version: 2.9.1\n",
      "Keras Version: 2.9.0\n",
      "Python 3.9.12 (main, Apr  4 2022, 05:22:27) [MSC v.1916 64 bit (AMD64)]\n",
      "Pandas 1.4.2\n",
      "GPU is available\n"
     ]
    }
   ],
   "source": [
    "# What version of Python do you have?\n",
    "import seaborn as sns\n",
    "import sys\n",
    "import os\n",
    "import tensorflow.keras\n",
    "import pandas as pd\n",
    "import numpy as np\n",
    "import tensorflow as tf\n",
    "import matplotlib.pyplot as plt\n",
    "%matplotlib inline\n",
    "print(f\"Tensor Flow Version: {tf.__version__}\")\n",
    "print(f\"Keras Version: {tensorflow.keras.__version__}\")\n",
    "print(f\"Python {sys.version}\")\n",
    "print(f\"Pandas {pd.__version__}\")\n",
    "print(\"GPU is\", \"available\" if tf.test.is_gpu_available() else \"NOT AVAILABLE\")\n",
    "AUTOTUNE = tf.data.experimental.AUTOTUNE"
   ]
  },
  {
   "cell_type": "code",
   "execution_count": 2,
   "id": "9c0168cd",
   "metadata": {},
   "outputs": [],
   "source": [
    "import tensorflow as tf\n",
    "from tensorflow import keras\n",
    "from tensorflow.python.keras import backend as K\n",
    "\n",
    "from tensorflow.keras.layers import Input, Dense, Reshape, Embedding, dot, Dropout , LSTM, Bidirectional, Flatten, Concatenate, GRU\n",
    "from tensorflow.keras.preprocessing.sequence import skipgrams\n",
    "from tensorflow.keras.models import Model, Sequential\n",
    "from keras.callbacks import EarlyStopping, ModelCheckpoint, ReduceLROnPlateau\n",
    "\n",
    "from sklearn.model_selection import train_test_split"
   ]
  },
  {
   "cell_type": "code",
   "execution_count": 3,
   "id": "f26886c8",
   "metadata": {},
   "outputs": [
    {
     "name": "stdout",
     "output_type": "stream",
     "text": [
      "Directory 'data' already exists\n"
     ]
    }
   ],
   "source": [
    "data_folder = 'data'\n",
    "main_dir = os.getcwd()\n",
    "data_dir = os.path.join(main_dir, data_folder)\n",
    "\n",
    "try:\n",
    "    os.mkdir(data_dir)\n",
    "    print(f\"Directory '{data_folder}' created\")\n",
    "except:\n",
    "    print(f\"Directory '{data_folder}' already exists\")"
   ]
  },
  {
   "cell_type": "code",
   "execution_count": 4,
   "id": "c06d1bf7",
   "metadata": {
    "scrolled": true
   },
   "outputs": [
    {
     "name": "stdout",
     "output_type": "stream",
     "text": [
      "Base directory changed to: C:\\Users\\kandp\\OneDrive\\Documents\\Univ_proj\\AI-3\\data\n"
     ]
    }
   ],
   "source": [
    "os.chdir(data_dir)\n",
    "print(f'Base directory changed to: {data_dir}')"
   ]
  },
  {
   "cell_type": "code",
   "execution_count": 5,
   "id": "000a5e9d",
   "metadata": {},
   "outputs": [],
   "source": [
    "# !git clone https://huggingface.co/datasets/fgrezes/WIESP2022-NER"
   ]
  },
  {
   "cell_type": "code",
   "execution_count": 6,
   "id": "08fa4d0a",
   "metadata": {},
   "outputs": [
    {
     "name": "stdout",
     "output_type": "stream",
     "text": [
      "Base directory changed back to: C:\\Users\\kandp\\OneDrive\\Documents\\Univ_proj\\AI-3\n"
     ]
    }
   ],
   "source": [
    "os.chdir(main_dir)\n",
    "print(f'Base directory changed back to: {main_dir}')"
   ]
  },
  {
   "cell_type": "code",
   "execution_count": 7,
   "id": "1eedafff",
   "metadata": {},
   "outputs": [],
   "source": [
    "data_name = 'WIESP2022-NER-TRAINING.jsonl'\n",
    "data_path = os.path.join(data_dir, \"WIESP2022-NER\",data_name)\n",
    "ner_df = pd.read_json(data_path, lines =True)"
   ]
  },
  {
   "cell_type": "code",
   "execution_count": 8,
   "id": "0b22bf87",
   "metadata": {
    "scrolled": false
   },
   "outputs": [
    {
     "data": {
      "text/html": [
       "<div>\n",
       "<style scoped>\n",
       "    .dataframe tbody tr th:only-of-type {\n",
       "        vertical-align: middle;\n",
       "    }\n",
       "\n",
       "    .dataframe tbody tr th {\n",
       "        vertical-align: top;\n",
       "    }\n",
       "\n",
       "    .dataframe thead th {\n",
       "        text-align: right;\n",
       "    }\n",
       "</style>\n",
       "<table border=\"1\" class=\"dataframe\">\n",
       "  <thead>\n",
       "    <tr style=\"text-align: right;\">\n",
       "      <th></th>\n",
       "      <th>bibcode</th>\n",
       "      <th>label_studio_id</th>\n",
       "      <th>ner_ids</th>\n",
       "      <th>ner_tags</th>\n",
       "      <th>section</th>\n",
       "      <th>tokens</th>\n",
       "      <th>unique_id</th>\n",
       "    </tr>\n",
       "  </thead>\n",
       "  <tbody>\n",
       "    <tr>\n",
       "      <th>0</th>\n",
       "      <td>2019MNRAS.486.5558S</td>\n",
       "      <td>487</td>\n",
       "      <td>[62, 62, 62, 62, 62, 62, 62, 15, 62, 62, 62, 6...</td>\n",
       "      <td>[O, O, O, O, O, O, O, B-Instrument, O, O, O, O...</td>\n",
       "      <td>fulltext</td>\n",
       "      <td>[Whilst, a, reasonable, harmonic, fit, to, the...</td>\n",
       "      <td>fulltext_487_2019MNRAS.486.5558S</td>\n",
       "    </tr>\n",
       "    <tr>\n",
       "      <th>1</th>\n",
       "      <td>2018MNRAS.478.5533F</td>\n",
       "      <td>1129</td>\n",
       "      <td>[62, 62, 62, 62, 62, 62, 62, 62, 62, 62, 62, 6...</td>\n",
       "      <td>[O, O, O, O, O, O, O, O, O, O, O, O, O, O, O, ...</td>\n",
       "      <td>fulltext</td>\n",
       "      <td>[comparison, once, the, angular, positions, of...</td>\n",
       "      <td>fulltext_1129_2018MNRAS.478.5533F</td>\n",
       "    </tr>\n",
       "    <tr>\n",
       "      <th>2</th>\n",
       "      <td>2018MNRAS.480.3062L</td>\n",
       "      <td>1086</td>\n",
       "      <td>[62, 62, 62, 62, 62, 62, 62, 62, 62, 62, 62, 6...</td>\n",
       "      <td>[O, O, O, O, O, O, O, O, O, O, O, O, O, O, O, ...</td>\n",
       "      <td>acknowledgments</td>\n",
       "      <td>[ACKNOWLEDGEMENTS, The, authors, thank, an, an...</td>\n",
       "      <td>acknowledgments_1086_2018MNRAS.480.3062L</td>\n",
       "    </tr>\n",
       "    <tr>\n",
       "      <th>3</th>\n",
       "      <td>2016MNRAS.457.1786M</td>\n",
       "      <td>1135</td>\n",
       "      <td>[22, 62, 62, 62, 62, 21, 13, 44, 44, 21, 62, 1...</td>\n",
       "      <td>[B-Person, O, O, O, O, B-Organization, B-Grant...</td>\n",
       "      <td>acknowledgments</td>\n",
       "      <td>[BDM, gratefully, acknowledges, support, from,...</td>\n",
       "      <td>acknowledgments_1135_2016MNRAS.457.1786M</td>\n",
       "    </tr>\n",
       "    <tr>\n",
       "      <th>4</th>\n",
       "      <td>2019MNRAS.482L...9B</td>\n",
       "      <td>559</td>\n",
       "      <td>[62, 62, 62, 22, 53, 22, 53, 22, 53, 22, 53, 2...</td>\n",
       "      <td>[O, O, O, B-Person, I-Person, B-Person, I-Pers...</td>\n",
       "      <td>acknowledgments</td>\n",
       "      <td>[ACKNOWLEDGEMENTS, We, thank, Dougal, Mackey,,...</td>\n",
       "      <td>acknowledgments_559_2019MNRAS.482L...9B</td>\n",
       "    </tr>\n",
       "  </tbody>\n",
       "</table>\n",
       "</div>"
      ],
      "text/plain": [
       "               bibcode  label_studio_id  \\\n",
       "0  2019MNRAS.486.5558S              487   \n",
       "1  2018MNRAS.478.5533F             1129   \n",
       "2  2018MNRAS.480.3062L             1086   \n",
       "3  2016MNRAS.457.1786M             1135   \n",
       "4  2019MNRAS.482L...9B              559   \n",
       "\n",
       "                                             ner_ids  \\\n",
       "0  [62, 62, 62, 62, 62, 62, 62, 15, 62, 62, 62, 6...   \n",
       "1  [62, 62, 62, 62, 62, 62, 62, 62, 62, 62, 62, 6...   \n",
       "2  [62, 62, 62, 62, 62, 62, 62, 62, 62, 62, 62, 6...   \n",
       "3  [22, 62, 62, 62, 62, 21, 13, 44, 44, 21, 62, 1...   \n",
       "4  [62, 62, 62, 22, 53, 22, 53, 22, 53, 22, 53, 2...   \n",
       "\n",
       "                                            ner_tags          section  \\\n",
       "0  [O, O, O, O, O, O, O, B-Instrument, O, O, O, O...         fulltext   \n",
       "1  [O, O, O, O, O, O, O, O, O, O, O, O, O, O, O, ...         fulltext   \n",
       "2  [O, O, O, O, O, O, O, O, O, O, O, O, O, O, O, ...  acknowledgments   \n",
       "3  [B-Person, O, O, O, O, B-Organization, B-Grant...  acknowledgments   \n",
       "4  [O, O, O, B-Person, I-Person, B-Person, I-Pers...  acknowledgments   \n",
       "\n",
       "                                              tokens  \\\n",
       "0  [Whilst, a, reasonable, harmonic, fit, to, the...   \n",
       "1  [comparison, once, the, angular, positions, of...   \n",
       "2  [ACKNOWLEDGEMENTS, The, authors, thank, an, an...   \n",
       "3  [BDM, gratefully, acknowledges, support, from,...   \n",
       "4  [ACKNOWLEDGEMENTS, We, thank, Dougal, Mackey,,...   \n",
       "\n",
       "                                  unique_id  \n",
       "0          fulltext_487_2019MNRAS.486.5558S  \n",
       "1         fulltext_1129_2018MNRAS.478.5533F  \n",
       "2  acknowledgments_1086_2018MNRAS.480.3062L  \n",
       "3  acknowledgments_1135_2016MNRAS.457.1786M  \n",
       "4   acknowledgments_559_2019MNRAS.482L...9B  "
      ]
     },
     "execution_count": 8,
     "metadata": {},
     "output_type": "execute_result"
    }
   ],
   "source": [
    "ner_df.head()"
   ]
  },
  {
   "cell_type": "code",
   "execution_count": 10,
   "id": "dc46e2af",
   "metadata": {},
   "outputs": [],
   "source": [
    "def word_to_num(df, token_col):\n",
    "    count = 1\n",
    "    word_to_id = {}\n",
    "    token_id_col = []\n",
    "    for i, row in df.iterrows():\n",
    "        token_id_list = []\n",
    "        for token in row[token_col]:\n",
    "            if token not in word_to_id:\n",
    "                word_to_id[token] = count\n",
    "                count += 1\n",
    "            \n",
    "            token_id = word_to_id[token]\n",
    "            token_id_list.append(token_id)\n",
    "        token_id_col.append(token_id_list)\n",
    "    word_to_id['PAD'] = 0\n",
    "    id_to_word = {v:k for k, v in word_to_id.items()}\n",
    "    return word_to_id, id_to_word, token_id_col"
   ]
  },
  {
   "cell_type": "code",
   "execution_count": 11,
   "id": "f952bd83",
   "metadata": {},
   "outputs": [
    {
     "data": {
      "text/plain": [
       "(1753, 7)"
      ]
     },
     "execution_count": 11,
     "metadata": {},
     "output_type": "execute_result"
    }
   ],
   "source": [
    "ner_df.shape"
   ]
  },
  {
   "cell_type": "code",
   "execution_count": 12,
   "id": "ec4a73fe",
   "metadata": {},
   "outputs": [],
   "source": [
    "word_to_id, id_to_word, token_id_col = word_to_num(ner_df, 'tokens')"
   ]
  },
  {
   "cell_type": "code",
   "execution_count": 13,
   "id": "69e01c58",
   "metadata": {},
   "outputs": [
    {
     "data": {
      "text/html": [
       "<div>\n",
       "<style scoped>\n",
       "    .dataframe tbody tr th:only-of-type {\n",
       "        vertical-align: middle;\n",
       "    }\n",
       "\n",
       "    .dataframe tbody tr th {\n",
       "        vertical-align: top;\n",
       "    }\n",
       "\n",
       "    .dataframe thead th {\n",
       "        text-align: right;\n",
       "    }\n",
       "</style>\n",
       "<table border=\"1\" class=\"dataframe\">\n",
       "  <thead>\n",
       "    <tr style=\"text-align: right;\">\n",
       "      <th></th>\n",
       "      <th>bibcode</th>\n",
       "      <th>label_studio_id</th>\n",
       "      <th>ner_ids</th>\n",
       "      <th>ner_tags</th>\n",
       "      <th>section</th>\n",
       "      <th>tokens</th>\n",
       "      <th>unique_id</th>\n",
       "      <th>token_ids</th>\n",
       "    </tr>\n",
       "  </thead>\n",
       "  <tbody>\n",
       "    <tr>\n",
       "      <th>0</th>\n",
       "      <td>2019MNRAS.486.5558S</td>\n",
       "      <td>487</td>\n",
       "      <td>[62, 62, 62, 62, 62, 62, 62, 15, 62, 62, 62, 6...</td>\n",
       "      <td>[O, O, O, O, O, O, O, B-Instrument, O, O, O, O...</td>\n",
       "      <td>fulltext</td>\n",
       "      <td>[Whilst, a, reasonable, harmonic, fit, to, the...</td>\n",
       "      <td>fulltext_487_2019MNRAS.486.5558S</td>\n",
       "      <td>[1, 2, 3, 4, 5, 6, 7, 8, 9, 10, 11, 12, 13, 14...</td>\n",
       "    </tr>\n",
       "    <tr>\n",
       "      <th>1</th>\n",
       "      <td>2018MNRAS.478.5533F</td>\n",
       "      <td>1129</td>\n",
       "      <td>[62, 62, 62, 62, 62, 62, 62, 62, 62, 62, 62, 6...</td>\n",
       "      <td>[O, O, O, O, O, O, O, O, O, O, O, O, O, O, O, ...</td>\n",
       "      <td>fulltext</td>\n",
       "      <td>[comparison, once, the, angular, positions, of...</td>\n",
       "      <td>fulltext_1129_2018MNRAS.478.5533F</td>\n",
       "      <td>[256, 257, 7, 258, 259, 23, 7, 260, 77, 261, 2...</td>\n",
       "    </tr>\n",
       "  </tbody>\n",
       "</table>\n",
       "</div>"
      ],
      "text/plain": [
       "               bibcode  label_studio_id  \\\n",
       "0  2019MNRAS.486.5558S              487   \n",
       "1  2018MNRAS.478.5533F             1129   \n",
       "\n",
       "                                             ner_ids  \\\n",
       "0  [62, 62, 62, 62, 62, 62, 62, 15, 62, 62, 62, 6...   \n",
       "1  [62, 62, 62, 62, 62, 62, 62, 62, 62, 62, 62, 6...   \n",
       "\n",
       "                                            ner_tags   section  \\\n",
       "0  [O, O, O, O, O, O, O, B-Instrument, O, O, O, O...  fulltext   \n",
       "1  [O, O, O, O, O, O, O, O, O, O, O, O, O, O, O, ...  fulltext   \n",
       "\n",
       "                                              tokens  \\\n",
       "0  [Whilst, a, reasonable, harmonic, fit, to, the...   \n",
       "1  [comparison, once, the, angular, positions, of...   \n",
       "\n",
       "                           unique_id  \\\n",
       "0   fulltext_487_2019MNRAS.486.5558S   \n",
       "1  fulltext_1129_2018MNRAS.478.5533F   \n",
       "\n",
       "                                           token_ids  \n",
       "0  [1, 2, 3, 4, 5, 6, 7, 8, 9, 10, 11, 12, 13, 14...  \n",
       "1  [256, 257, 7, 258, 259, 23, 7, 260, 77, 261, 2...  "
      ]
     },
     "execution_count": 13,
     "metadata": {},
     "output_type": "execute_result"
    }
   ],
   "source": [
    "# create the token_ids column\n",
    "ner_df['token_ids'] = token_id_col\n",
    "ner_df.head(2)"
   ]
  },
  {
   "cell_type": "code",
   "execution_count": 63,
   "id": "9f62c88b",
   "metadata": {},
   "outputs": [],
   "source": [
    "ner_dist = {}\n",
    "\n",
    "for i, row in ner_df.iterrows():\n",
    "    for ner in row['ner_tags']:\n",
    "        if ner in ner_dist:\n",
    "            ner_dist[ner] += 1\n",
    "\n",
    "        else:\n",
    "            ner_dist[ner] = 1\n",
    "        \n",
    "ner_dist = {key:val for key, val in dist_df.items() if key != 'O'}\n",
    "    "
   ]
  },
  {
   "cell_type": "code",
   "execution_count": 64,
   "id": "278cb989",
   "metadata": {},
   "outputs": [
    {
     "ename": "TypeError",
     "evalue": "'<' not supported between instances of 'str' and 'int'",
     "output_type": "error",
     "traceback": [
      "\u001b[1;31m---------------------------------------------------------------------------\u001b[0m",
      "\u001b[1;31mTypeError\u001b[0m                                 Traceback (most recent call last)",
      "Input \u001b[1;32mIn [64]\u001b[0m, in \u001b[0;36m<cell line: 1>\u001b[1;34m()\u001b[0m\n\u001b[1;32m----> 1\u001b[0m top_20_ner \u001b[38;5;241m=\u001b[39m [k \u001b[38;5;28;01mfor\u001b[39;00m k, v \u001b[38;5;129;01min\u001b[39;00m \u001b[38;5;28;43msorted\u001b[39;49m\u001b[43m(\u001b[49m\u001b[43mner_dist\u001b[49m\u001b[38;5;241;43m.\u001b[39;49m\u001b[43mitems\u001b[49m\u001b[43m(\u001b[49m\u001b[43m)\u001b[49m\u001b[43m,\u001b[49m\u001b[43m \u001b[49m\u001b[43mkey\u001b[49m\u001b[38;5;241;43m=\u001b[39;49m\u001b[38;5;28;43;01mlambda\u001b[39;49;00m\u001b[43m \u001b[49m\u001b[43mitem\u001b[49m\u001b[43m:\u001b[49m\u001b[43m \u001b[49m\u001b[43mitem\u001b[49m\u001b[43m[\u001b[49m\u001b[38;5;241;43m1\u001b[39;49m\u001b[43m]\u001b[49m\u001b[43m,\u001b[49m\u001b[43m \u001b[49m\u001b[43mreverse\u001b[49m\u001b[43m \u001b[49m\u001b[38;5;241;43m=\u001b[39;49m\u001b[43m \u001b[49m\u001b[38;5;28;43;01mTrue\u001b[39;49;00m\u001b[43m)\u001b[49m][:\u001b[38;5;241m20\u001b[39m]\n",
      "File \u001b[1;32m~\\anaconda3\\lib\\site-packages\\pandas\\core\\ops\\common.py:70\u001b[0m, in \u001b[0;36m_unpack_zerodim_and_defer.<locals>.new_method\u001b[1;34m(self, other)\u001b[0m\n\u001b[0;32m     66\u001b[0m             \u001b[38;5;28;01mreturn\u001b[39;00m \u001b[38;5;28mNotImplemented\u001b[39m\n\u001b[0;32m     68\u001b[0m other \u001b[38;5;241m=\u001b[39m item_from_zerodim(other)\n\u001b[1;32m---> 70\u001b[0m \u001b[38;5;28;01mreturn\u001b[39;00m \u001b[43mmethod\u001b[49m\u001b[43m(\u001b[49m\u001b[38;5;28;43mself\u001b[39;49m\u001b[43m,\u001b[49m\u001b[43m \u001b[49m\u001b[43mother\u001b[49m\u001b[43m)\u001b[49m\n",
      "File \u001b[1;32m~\\anaconda3\\lib\\site-packages\\pandas\\core\\arraylike.py:48\u001b[0m, in \u001b[0;36mOpsMixin.__lt__\u001b[1;34m(self, other)\u001b[0m\n\u001b[0;32m     46\u001b[0m \u001b[38;5;129m@unpack_zerodim_and_defer\u001b[39m(\u001b[38;5;124m\"\u001b[39m\u001b[38;5;124m__lt__\u001b[39m\u001b[38;5;124m\"\u001b[39m)\n\u001b[0;32m     47\u001b[0m \u001b[38;5;28;01mdef\u001b[39;00m \u001b[38;5;21m__lt__\u001b[39m(\u001b[38;5;28mself\u001b[39m, other):\n\u001b[1;32m---> 48\u001b[0m     \u001b[38;5;28;01mreturn\u001b[39;00m \u001b[38;5;28;43mself\u001b[39;49m\u001b[38;5;241;43m.\u001b[39;49m\u001b[43m_cmp_method\u001b[49m\u001b[43m(\u001b[49m\u001b[43mother\u001b[49m\u001b[43m,\u001b[49m\u001b[43m \u001b[49m\u001b[43moperator\u001b[49m\u001b[38;5;241;43m.\u001b[39;49m\u001b[43mlt\u001b[49m\u001b[43m)\u001b[49m\n",
      "File \u001b[1;32m~\\anaconda3\\lib\\site-packages\\pandas\\core\\series.py:5623\u001b[0m, in \u001b[0;36mSeries._cmp_method\u001b[1;34m(self, other, op)\u001b[0m\n\u001b[0;32m   5620\u001b[0m rvalues \u001b[38;5;241m=\u001b[39m extract_array(other, extract_numpy\u001b[38;5;241m=\u001b[39m\u001b[38;5;28;01mTrue\u001b[39;00m, extract_range\u001b[38;5;241m=\u001b[39m\u001b[38;5;28;01mTrue\u001b[39;00m)\n\u001b[0;32m   5622\u001b[0m \u001b[38;5;28;01mwith\u001b[39;00m np\u001b[38;5;241m.\u001b[39merrstate(\u001b[38;5;28mall\u001b[39m\u001b[38;5;241m=\u001b[39m\u001b[38;5;124m\"\u001b[39m\u001b[38;5;124mignore\u001b[39m\u001b[38;5;124m\"\u001b[39m):\n\u001b[1;32m-> 5623\u001b[0m     res_values \u001b[38;5;241m=\u001b[39m \u001b[43mops\u001b[49m\u001b[38;5;241;43m.\u001b[39;49m\u001b[43mcomparison_op\u001b[49m\u001b[43m(\u001b[49m\u001b[43mlvalues\u001b[49m\u001b[43m,\u001b[49m\u001b[43m \u001b[49m\u001b[43mrvalues\u001b[49m\u001b[43m,\u001b[49m\u001b[43m \u001b[49m\u001b[43mop\u001b[49m\u001b[43m)\u001b[49m\n\u001b[0;32m   5625\u001b[0m \u001b[38;5;28;01mreturn\u001b[39;00m \u001b[38;5;28mself\u001b[39m\u001b[38;5;241m.\u001b[39m_construct_result(res_values, name\u001b[38;5;241m=\u001b[39mres_name)\n",
      "File \u001b[1;32m~\\anaconda3\\lib\\site-packages\\pandas\\core\\ops\\array_ops.py:283\u001b[0m, in \u001b[0;36mcomparison_op\u001b[1;34m(left, right, op)\u001b[0m\n\u001b[0;32m    280\u001b[0m     \u001b[38;5;28;01mreturn\u001b[39;00m invalid_comparison(lvalues, rvalues, op)\n\u001b[0;32m    282\u001b[0m \u001b[38;5;28;01melif\u001b[39;00m is_object_dtype(lvalues\u001b[38;5;241m.\u001b[39mdtype) \u001b[38;5;129;01mor\u001b[39;00m \u001b[38;5;28misinstance\u001b[39m(rvalues, \u001b[38;5;28mstr\u001b[39m):\n\u001b[1;32m--> 283\u001b[0m     res_values \u001b[38;5;241m=\u001b[39m \u001b[43mcomp_method_OBJECT_ARRAY\u001b[49m\u001b[43m(\u001b[49m\u001b[43mop\u001b[49m\u001b[43m,\u001b[49m\u001b[43m \u001b[49m\u001b[43mlvalues\u001b[49m\u001b[43m,\u001b[49m\u001b[43m \u001b[49m\u001b[43mrvalues\u001b[49m\u001b[43m)\u001b[49m\n\u001b[0;32m    285\u001b[0m \u001b[38;5;28;01melse\u001b[39;00m:\n\u001b[0;32m    286\u001b[0m     res_values \u001b[38;5;241m=\u001b[39m _na_arithmetic_op(lvalues, rvalues, op, is_cmp\u001b[38;5;241m=\u001b[39m\u001b[38;5;28;01mTrue\u001b[39;00m)\n",
      "File \u001b[1;32m~\\anaconda3\\lib\\site-packages\\pandas\\core\\ops\\array_ops.py:71\u001b[0m, in \u001b[0;36mcomp_method_OBJECT_ARRAY\u001b[1;34m(op, x, y)\u001b[0m\n\u001b[0;32m     69\u001b[0m     \u001b[38;5;28;01mif\u001b[39;00m x\u001b[38;5;241m.\u001b[39mshape \u001b[38;5;241m!=\u001b[39m y\u001b[38;5;241m.\u001b[39mshape:\n\u001b[0;32m     70\u001b[0m         \u001b[38;5;28;01mraise\u001b[39;00m \u001b[38;5;167;01mValueError\u001b[39;00m(\u001b[38;5;124m\"\u001b[39m\u001b[38;5;124mShapes must match\u001b[39m\u001b[38;5;124m\"\u001b[39m, x\u001b[38;5;241m.\u001b[39mshape, y\u001b[38;5;241m.\u001b[39mshape)\n\u001b[1;32m---> 71\u001b[0m     result \u001b[38;5;241m=\u001b[39m \u001b[43mlibops\u001b[49m\u001b[38;5;241;43m.\u001b[39;49m\u001b[43mvec_compare\u001b[49m\u001b[43m(\u001b[49m\u001b[43mx\u001b[49m\u001b[38;5;241;43m.\u001b[39;49m\u001b[43mravel\u001b[49m\u001b[43m(\u001b[49m\u001b[43m)\u001b[49m\u001b[43m,\u001b[49m\u001b[43m \u001b[49m\u001b[43my\u001b[49m\u001b[38;5;241;43m.\u001b[39;49m\u001b[43mravel\u001b[49m\u001b[43m(\u001b[49m\u001b[43m)\u001b[49m\u001b[43m,\u001b[49m\u001b[43m \u001b[49m\u001b[43mop\u001b[49m\u001b[43m)\u001b[49m\n\u001b[0;32m     72\u001b[0m \u001b[38;5;28;01melse\u001b[39;00m:\n\u001b[0;32m     73\u001b[0m     result \u001b[38;5;241m=\u001b[39m libops\u001b[38;5;241m.\u001b[39mscalar_compare(x\u001b[38;5;241m.\u001b[39mravel(), y, op)\n",
      "File \u001b[1;32m~\\anaconda3\\lib\\site-packages\\pandas\\_libs\\ops.pyx:173\u001b[0m, in \u001b[0;36mpandas._libs.ops.vec_compare\u001b[1;34m()\u001b[0m\n",
      "\u001b[1;31mTypeError\u001b[0m: '<' not supported between instances of 'str' and 'int'"
     ]
    }
   ],
   "source": [
    "top_20_ner = [k for k, v in sorted(ner_dist.items(), key=lambda item: item[1], reverse = True)][:20]"
   ]
  },
  {
   "cell_type": "code",
   "execution_count": 59,
   "id": "0c062ffa",
   "metadata": {},
   "outputs": [],
   "source": [
    "top_20_ner_dist = {n:ner_dist[n] for n in top_20_ner}"
   ]
  },
  {
   "cell_type": "code",
   "execution_count": 60,
   "id": "c6075b3e",
   "metadata": {},
   "outputs": [
    {
     "data": {
      "text/plain": [
       "{'O': 472307,\n",
       " 'I-Citation': 18402,\n",
       " 'I-Organization': 14211,\n",
       " 'I-Formula': 8433,\n",
       " 'B-Organization': 7448,\n",
       " 'B-Citation': 6360,\n",
       " 'I-Grant': 4080,\n",
       " 'B-Person': 3916,\n",
       " 'B-Grant': 3478,\n",
       " 'B-Wavelength': 3384,\n",
       " 'B-CelestialObject': 2940,\n",
       " 'I-Person': 2206,\n",
       " 'B-Formula': 2088,\n",
       " 'B-Model': 1800,\n",
       " 'I-CelestialObject': 1691,\n",
       " 'I-Wavelength': 1583,\n",
       " 'B-Telescope': 1573,\n",
       " 'B-Location': 1404,\n",
       " 'I-Model': 1244,\n",
       " 'I-Observatory': 1035}"
      ]
     },
     "execution_count": 60,
     "metadata": {},
     "output_type": "execute_result"
    }
   ],
   "source": [
    "top_20_ner_dist"
   ]
  },
  {
   "cell_type": "code",
   "execution_count": null,
   "id": "373006c2",
   "metadata": {},
   "outputs": [],
   "source": []
  },
  {
   "cell_type": "code",
   "execution_count": 67,
   "id": "648b43bc",
   "metadata": {},
   "outputs": [
    {
     "data": {
      "image/png": "[encoded data removed]",
      "text/plain": [
       "<Figure size 792x792 with 1 Axes>"
      ]
     },
     "metadata": {
      "needs_background": "light"
     },
     "output_type": "display_data"
    }
   ],
   "source": [
    "#create dist dataframe\n",
    "dist_df = pd.DataFrame()\n",
    "dist_df[\"tags\"] = list(top_20_ner_dist.keys())\n",
    "dist_df[\"count\"] = list(top_20_ner_dist.values())\n",
    "\n",
    "#sort the data\n",
    "dist_df.sort_values(\"count\", ascending = False, inplace = True)\n",
    "\n",
    "# Plot the feature importance\n",
    "fig, ax = plt.subplots(figsize=(11,11))\n",
    "sns.set_color_codes(\"pastel\")\n",
    "sns.barplot(x = 'count',y = 'tags', data=dist_df, color=\"Blue\", ax = ax)\n",
    "ax.set_xscale(\"log\")\n",
    "ax.set_xlabel(\"Count\", fontsize = 15)\n",
    "ax.set_ylabel(\"Tags\", fontsize = 15)\n",
    "ax.set_title(\"Top 20 NER tags\", fontsize = 20, pad = 15)\n",
    "plt.show()"
   ]
  },
  {
   "cell_type": "code",
   "execution_count": 14,
   "id": "cdc4a21c",
   "metadata": {},
   "outputs": [],
   "source": [
    "embed_data = ner_df.explode('token_ids').reset_index()[['token_ids']].values.flatten().tolist()"
   ]
  },
  {
   "cell_type": "code",
   "execution_count": 15,
   "id": "fd79362d",
   "metadata": {},
   "outputs": [],
   "source": [
    "# Train custom embedding\n",
    "\n",
    "window_size = 3\n",
    "vocab_size = len(list(word_to_id.keys())) + 1\n",
    "sampling_table = tf.keras.preprocessing.sequence.make_sampling_table(size = vocab_size)\n",
    "\n",
    "couples, labels = skipgrams(sequence = embed_data,\n",
    "                            vocabulary_size = vocab_size,\n",
    "                            window_size = window_size,\n",
    "                            sampling_table = sampling_table\n",
    "                            )\n",
    "word_center, word_context = zip(*couples)\n"
   ]
  },
  {
   "cell_type": "code",
   "execution_count": 16,
   "id": "9c2acab7",
   "metadata": {},
   "outputs": [
    {
     "name": "stdout",
     "output_type": "stream",
     "text": [
      "Model: \"w2v_model\"\n",
      "__________________________________________________________________________________________________\n",
      " Layer (type)                   Output Shape         Param #     Connected to                     \n",
      "==================================================================================================\n",
      " word_embedding_input (InputLay  [(None, 1)]         0           []                               \n",
      " er)                                                                                              \n",
      "                                                                                                  \n",
      " context_embedding_input (Input  [(None, 1)]         0           []                               \n",
      " Layer)                                                                                           \n",
      "                                                                                                  \n",
      " word_embedding (Embedding)     (None, 1, 30)        1469790     ['word_embedding_input[0][0]']   \n",
      "                                                                                                  \n",
      " context_embedding (Embedding)  (None, 1, 30)        1469790     ['context_embedding_input[0][0]']\n",
      "                                                                                                  \n",
      " reshape (Reshape)              (None, 30)           0           ['word_embedding[0][0]']         \n",
      "                                                                                                  \n",
      " reshape_1 (Reshape)            (None, 30)           0           ['context_embedding[0][0]']      \n",
      "                                                                                                  \n",
      " dot_product (Dot)              (None, 1)            0           ['reshape[0][0]',                \n",
      "                                                                  'reshape_1[0][0]']              \n",
      "                                                                                                  \n",
      " dense (Dense)                  (None, 1)            2           ['dot_product[0][0]']            \n",
      "                                                                                                  \n",
      "==================================================================================================\n",
      "Total params: 2,939,582\n",
      "Trainable params: 2,939,582\n",
      "Non-trainable params: 0\n",
      "__________________________________________________________________________________________________\n"
     ]
    }
   ],
   "source": [
    "# Embedding Dimention\n",
    "vector_dim = 30\n",
    "# target embedding\n",
    "word_model = Sequential()\n",
    "word_model.add(Embedding(input_dim = vocab_size, \\\n",
    "                         output_dim = vector_dim, \\\n",
    "                         input_length = 1, \\\n",
    "                         name = 'word_embedding'))\n",
    "word_model.add(Reshape((vector_dim,)))\n",
    "\n",
    "# context embedding\n",
    "context_model = Sequential()\n",
    "context_model.add(Embedding(input_dim = vocab_size, \\\n",
    "                           output_dim = vector_dim, \\\n",
    "                           input_length = 1, \\\n",
    "                           name = 'context_embedding'))\n",
    "context_model.add(Reshape((vector_dim,)))\n",
    "\n",
    "# dotproduct\n",
    "dot_product = dot([word_model.output, context_model.output], axes = 1, name = 'dot_product')\n",
    "sigmoid_dot_product = Dense(1, activation = 'sigmoid')(dot_product)\n",
    "\n",
    "# Word2Vec model\n",
    "w2v_model = Model(inputs = [word_model.input, context_model.input], outputs = sigmoid_dot_product, name = 'w2v_model')\n",
    "               \n",
    "# Summary\n",
    "w2v_model.summary()"
   ]
  },
  {
   "cell_type": "code",
   "execution_count": 17,
   "id": "680efd8e",
   "metadata": {},
   "outputs": [],
   "source": [
    "word_arr = np.array(word_center, dtype = 'float32')\n",
    "context_arr = np.array(word_context, dtype = 'float32')\n",
    "labels_arr = np.array(labels, dtype = 'float32')"
   ]
  },
  {
   "cell_type": "code",
   "execution_count": 18,
   "id": "32cec333",
   "metadata": {},
   "outputs": [],
   "source": [
    "w2v_model.compile(optimizer = 'rmsprop', loss = 'binary_crossentropy', metrics = ['accuracy'])"
   ]
  },
  {
   "cell_type": "code",
   "execution_count": 19,
   "id": "df6a9a65",
   "metadata": {},
   "outputs": [
    {
     "name": "stdout",
     "output_type": "stream",
     "text": [
      "Directory 'model' already exists\n"
     ]
    }
   ],
   "source": [
    "model_folder = 'model'\n",
    "main_dir = os.getcwd()\n",
    "model_dir = os.path.join(main_dir, model_folder)\n",
    "\n",
    "try:\n",
    "    os.mkdir(model_dir)\n",
    "    print(f\"Directory '{model_folder}' created\")\n",
    "except:\n",
    "    print(f\"Directory '{model_folder}' already exists\")"
   ]
  },
  {
   "cell_type": "code",
   "execution_count": 20,
   "id": "4b5fc41d",
   "metadata": {},
   "outputs": [
    {
     "name": "stdout",
     "output_type": "stream",
     "text": [
      "Directory 'w2v' already exists\n"
     ]
    }
   ],
   "source": [
    "w2v_folder = 'w2v'\n",
    "w2v_dir = os.path.join(main_dir, model_folder, w2v_folder)\n",
    "\n",
    "try:\n",
    "    os.mkdir(w2v_dir)\n",
    "    print(f\"Directory '{w2v_folder}' created\")\n",
    "except:\n",
    "    print(f\"Directory '{w2v_folder}' already exists\")"
   ]
  },
  {
   "cell_type": "code",
   "execution_count": 21,
   "id": "0d4a7ca7",
   "metadata": {
    "scrolled": false
   },
   "outputs": [
    {
     "name": "stdout",
     "output_type": "stream",
     "text": [
      "Base directory changed to: C:\\Users\\kandp\\OneDrive\\Documents\\Univ_proj\\AI-3\\model\\w2v\n"
     ]
    }
   ],
   "source": [
    "os.chdir(w2v_dir)\n",
    "print(f'Base directory changed to: {w2v_dir}')"
   ]
  },
  {
   "cell_type": "code",
   "execution_count": 22,
   "id": "bbff4dbb",
   "metadata": {
    "scrolled": true
   },
   "outputs": [],
   "source": [
    "# batch_size = 256\n",
    "\n",
    "# early_stopping = EarlyStopping(monitor='val_loss', patience=10, verbose=0, mode='min')\n",
    "# mcp_save = ModelCheckpoint('.w2v_wts.hdf5', save_best_only=True, monitor='val_loss', mode='min')\n",
    "# reduce_lr_loss = ReduceLROnPlateau(monitor='val_loss', factor=0.1, patience=7, verbose=1, epsilon=1e-4, mode='min')\n",
    "# num_epochs = 20\n",
    "\n",
    "\n",
    "# w2v_model.fit([word_arr, context_arr], labels_arr, batch_size=batch_size, epochs=num_epochs, callbacks=[early_stopping, mcp_save, reduce_lr_loss], validation_split = 0.25)"
   ]
  },
  {
   "cell_type": "code",
   "execution_count": 23,
   "id": "085459b9",
   "metadata": {},
   "outputs": [
    {
     "name": "stdout",
     "output_type": "stream",
     "text": [
      "Base directory changed back to: C:\\Users\\kandp\\OneDrive\\Documents\\Univ_proj\\AI-3\n"
     ]
    }
   ],
   "source": [
    "os.chdir(main_dir)\n",
    "print(f'Base directory changed back to: {main_dir}')"
   ]
  },
  {
   "cell_type": "code",
   "execution_count": 24,
   "id": "6136b915",
   "metadata": {},
   "outputs": [
    {
     "name": "stdout",
     "output_type": "stream",
     "text": [
      "Base directory changed to: C:\\Users\\kandp\\OneDrive\\Documents\\Univ_proj\\AI-3\\model\\w2v\n"
     ]
    }
   ],
   "source": [
    "os.chdir(w2v_dir)\n",
    "print(f'Base directory changed to: {w2v_dir}')"
   ]
  },
  {
   "cell_type": "code",
   "execution_count": 25,
   "id": "698f59c7",
   "metadata": {
    "scrolled": true
   },
   "outputs": [],
   "source": [
    "w2v_model.load_weights('.w2v_wts2.hdf5')"
   ]
  },
  {
   "cell_type": "code",
   "execution_count": 26,
   "id": "de5a89db",
   "metadata": {},
   "outputs": [
    {
     "name": "stdout",
     "output_type": "stream",
     "text": [
      "Base directory changed back to: C:\\Users\\kandp\\OneDrive\\Documents\\Univ_proj\\AI-3\n"
     ]
    }
   ],
   "source": [
    "os.chdir(main_dir)\n",
    "print(f'Base directory changed back to: {main_dir}')"
   ]
  },
  {
   "cell_type": "code",
   "execution_count": 27,
   "id": "a2f253f3",
   "metadata": {},
   "outputs": [],
   "source": [
    "w2v_embedding = w2v_model.get_layer('word_embedding').get_weights()[0]"
   ]
  },
  {
   "cell_type": "code",
   "execution_count": 28,
   "id": "3dc485e3",
   "metadata": {},
   "outputs": [
    {
     "data": {
      "text/plain": [
       "(48993, 30)"
      ]
     },
     "execution_count": 28,
     "metadata": {},
     "output_type": "execute_result"
    }
   ],
   "source": [
    "w2v_embedding.shape"
   ]
  },
  {
   "cell_type": "code",
   "execution_count": 29,
   "id": "2a6950fa",
   "metadata": {},
   "outputs": [],
   "source": [
    "def transform_pad(data_input, data_output):\n",
    "    # Pad the inputs\n",
    "    input_pad = data_input.to_tensor(default_value=0, shape=[None, None])\n",
    "    # Pad the outputs\n",
    "    output_pad = data_output.to_tensor(default_value=0, shape=[None, None])\n",
    "    \n",
    "    return input_pad, output_pad"
   ]
  },
  {
   "cell_type": "code",
   "execution_count": 30,
   "id": "5f9f43a1",
   "metadata": {},
   "outputs": [],
   "source": [
    "def make_dataframe(data, token_id_col, ner_col, word_to_id, batch_size = 64):\n",
    "    '''\n",
    "    Preparing our data for training\n",
    "    '''\n",
    "    batch_size = batch_size\n",
    "    shuffle_buffer_size = data.shape[0]\n",
    "    X = data[token_id_col].values\n",
    "    y = data[ner_col].values\n",
    "    \n",
    "    X_train, X_val, y_train, y_val = train_test_split(X, y, test_size=0.2)\n",
    "    # Use tensorflow ragged constants to get the ragged version of data\n",
    "    X_train_processed = tf.ragged.constant(list(X_train))\n",
    "    y_train_processed = tf.ragged.constant(list(y_train))\n",
    "    X_val_processed = tf.ragged.constant(list(X_val))\n",
    "    y_val_processed = tf.ragged.constant(list(y_val))\n",
    "\n",
    "    # Create TF Dataset\n",
    "    tf_train_data = tf.data.Dataset.from_tensor_slices((X_train_processed, y_train_processed))\n",
    "    tf_val_data = tf.data.Dataset.from_tensor_slices((X_val_processed, y_val_processed))\n",
    "    #############\n",
    "    # Train data\n",
    "    #############\n",
    "    # Apply all data processing logic\n",
    "    tf_train_data = tf_train_data.shuffle(buffer_size = shuffle_buffer_size)\n",
    "    tf_train_data = tf_train_data.batch(batch_size)\n",
    "    tf_train_data = tf_train_data.map(transform_pad, num_parallel_calls=AUTOTUNE)\n",
    "    tf_train_data = tf_train_data.prefetch(AUTOTUNE)\n",
    "    \n",
    "    #tf_val_data = tf_val_data.shuffle(buffer_size = shuffle_buffer_size)\n",
    "    tf_val_data = tf_val_data.batch(batch_size)\n",
    "    tf_val_data = tf_val_data.map(transform_pad, num_parallel_calls=AUTOTUNE)\n",
    "    tf_val_data = tf_val_data.prefetch(AUTOTUNE)\n",
    "    return tf_train_data, tf_val_data"
   ]
  },
  {
   "cell_type": "code",
   "execution_count": 31,
   "id": "1db82fbb",
   "metadata": {},
   "outputs": [],
   "source": [
    "# batch_size = 64\n",
    "# train_data, val_data = make_dataframe(ner_df, 'token_ids', 'ner_ids', word_to_id, batch_size)"
   ]
  },
  {
   "cell_type": "code",
   "execution_count": 32,
   "id": "3130ecfa",
   "metadata": {},
   "outputs": [],
   "source": [
    "X = ner_df['token_ids'].values\n",
    "y = ner_df['ner_ids'].values\n",
    "\n",
    "X_idx = ner_df['token_ids'].index\n",
    "y_idx = ner_df['ner_ids'].index\n",
    "    \n",
    "train_idx, val_idx = train_test_split(X_idx, test_size=0.25)"
   ]
  },
  {
   "cell_type": "code",
   "execution_count": 33,
   "id": "28144a63",
   "metadata": {},
   "outputs": [],
   "source": [
    "X_train, X_val, y_train, y_val = X[train_idx], X[val_idx], y[train_idx], y[val_idx]"
   ]
  },
  {
   "cell_type": "code",
   "execution_count": 34,
   "id": "8e2a4df1",
   "metadata": {},
   "outputs": [],
   "source": [
    "X_train_padded = tf.keras.preprocessing.sequence.pad_sequences(X_train, padding='post')\n",
    "y_train_padded = tf.keras.preprocessing.sequence.pad_sequences(y_train, padding='post')\n",
    "\n",
    "X_val_padded = tf.keras.preprocessing.sequence.pad_sequences(X_val, padding='post')\n",
    "y_val_padded = tf.keras.preprocessing.sequence.pad_sequences(y_val, padding='post')"
   ]
  },
  {
   "cell_type": "code",
   "execution_count": 35,
   "id": "745074af",
   "metadata": {},
   "outputs": [
    {
     "name": "stdout",
     "output_type": "stream",
     "text": [
      "Directory 'rnn_model' already exists\n"
     ]
    }
   ],
   "source": [
    "rnn_folder = 'rnn_model'\n",
    "rnn_dir = os.path.join(main_dir, model_folder, rnn_folder)\n",
    "\n",
    "try:\n",
    "    os.mkdir(rnn_dir)\n",
    "    print(f\"Directory '{rnn_folder}' created\")\n",
    "except:\n",
    "    print(f\"Directory '{rnn_folder}' already exists\")"
   ]
  },
  {
   "cell_type": "code",
   "execution_count": 36,
   "id": "5c5c74b3",
   "metadata": {},
   "outputs": [],
   "source": [
    "def make_model(hidden_size, num_layers, bidir = False):\n",
    "    tf.keras.backend.clear_session()\n",
    "    sentence_input1 = tf.keras.Input(shape=(None,), name='sentence_input')\n",
    "\n",
    "    word_embedding = tf.keras.layers.Embedding(input_dim=embed_matrix.shape[0], output_dim=embed_matrix.shape[1],\\\n",
    "                    name='word_embedding', mask_zero=True)\n",
    "    masked_embeddinbg = word_embedding(sentence_input1)\n",
    "    \n",
    "    h_f = []\n",
    "    h_b = []\n",
    "    # First Forward RNN layer\n",
    "    RNN = tf.keras.layers.SimpleRNN(hidden_size, return_sequences=True)\n",
    "    hf = RNN(masked_embeddinbg)\n",
    "    h_f.append(hf)\n",
    "    if bidir:\n",
    "        RNN = tf.keras.layers.SimpleRNN(hidden_size, return_sequences=True, go_backwards=True)\n",
    "        hb = RNN(masked_embeddinbg)\n",
    "        h_b.append(hb)\n",
    "        \n",
    "\n",
    "    # Create forward RNNs\n",
    "    for k in range(1,num_layers):\n",
    "        RNN_f = tf.keras.layers.SimpleRNN(hidden_size, return_sequences=True)\n",
    "        hf = RNN_f(hf)\n",
    "        h_f.append(hf)\n",
    "\n",
    "        if bidir:\n",
    "            RNN_b = tf.keras.layers.SimpleRNN(hidden_size, return_sequences=True, go_backwards=True)\n",
    "            hb = RNN_b(hb)\n",
    "            h_b.append(hb)\n",
    "    \n",
    "    if bidir:\n",
    "        if num_layers==1:\n",
    "            h = tf.keras.layers.concatenate([hf, hb])        \n",
    "        else:\n",
    "            h = tf.keras.layers.concatenate(h_f+h_b)\n",
    "    else:\n",
    "        if num_layers==1:\n",
    "            h = h_f[0]\n",
    "        else:\n",
    "            h = tf.keras.layers.concatenate(h_f)\n",
    "          \n",
    "    \n",
    "    dense = tf.keras.layers.Dense(embed_matrix.shape[0], activation='softmax')\n",
    "    output = dense(h)\n",
    "\n",
    "    model = tf.keras.Model(inputs=sentence_input1, outputs=output, \\\n",
    "          name='_'.join([str(hidden_size), str(num_layers),str(bidir)]))\n",
    "    model.compile(loss='sparse_categorical_crossentropy', optimizer='adam', metrics = 'accuracy')\n",
    "    \n",
    "    return model"
   ]
  },
  {
   "cell_type": "code",
   "execution_count": 37,
   "id": "ae5daf5e",
   "metadata": {},
   "outputs": [
    {
     "name": "stdout",
     "output_type": "stream",
     "text": [
      "Model: \"15_1_False\"\n",
      "_________________________________________________________________\n",
      " Layer (type)                Output Shape              Param #   \n",
      "=================================================================\n",
      " sentence_input (InputLayer)  [(None, None)]           0         \n",
      "                                                                 \n",
      " word_embedding (Embedding)  (None, None, 30)          1469790   \n",
      "                                                                 \n",
      " simple_rnn (SimpleRNN)      (None, None, 15)          690       \n",
      "                                                                 \n",
      " dense (Dense)               (None, None, 48993)       783888    \n",
      "                                                                 \n",
      "=================================================================\n",
      "Total params: 2,254,368\n",
      "Trainable params: 784,578\n",
      "Non-trainable params: 1,469,790\n",
      "_________________________________________________________________\n"
     ]
    }
   ],
   "source": [
    "hidden_size = 15\n",
    "num_layers = 1\n",
    "embed_matrix = w2v_embedding\n",
    "rnn_model = make_model(hidden_size, num_layers, bidir = False)\n",
    "rnn_model.summary()"
   ]
  },
  {
   "cell_type": "code",
   "execution_count": 38,
   "id": "d3b6c478",
   "metadata": {},
   "outputs": [
    {
     "name": "stdout",
     "output_type": "stream",
     "text": [
      "Base directory changed to: C:\\Users\\kandp\\OneDrive\\Documents\\Univ_proj\\AI-3\\model\\rnn_model\n"
     ]
    }
   ],
   "source": [
    "os.chdir(rnn_dir)\n",
    "print(f'Base directory changed to: {rnn_dir}')"
   ]
  },
  {
   "cell_type": "code",
   "execution_count": 39,
   "id": "cd9247da",
   "metadata": {},
   "outputs": [
    {
     "ename": "NameError",
     "evalue": "name 'two_rnn_model' is not defined",
     "output_type": "error",
     "traceback": [
      "\u001b[1;31m---------------------------------------------------------------------------\u001b[0m",
      "\u001b[1;31mNameError\u001b[0m                                 Traceback (most recent call last)",
      "Input \u001b[1;32mIn [39]\u001b[0m, in \u001b[0;36m<cell line: 1>\u001b[1;34m()\u001b[0m\n\u001b[1;32m----> 1\u001b[0m tf\u001b[38;5;241m.\u001b[39mkeras\u001b[38;5;241m.\u001b[39mutils\u001b[38;5;241m.\u001b[39mplot_model(\u001b[43mtwo_rnn_model\u001b[49m, to_file\u001b[38;5;241m=\u001b[39m\u001b[38;5;124m'\u001b[39m\u001b[38;5;124msimple_rnn.png\u001b[39m\u001b[38;5;124m'\u001b[39m, show_shapes\u001b[38;5;241m=\u001b[39m\u001b[38;5;28;01mTrue\u001b[39;00m)\n",
      "\u001b[1;31mNameError\u001b[0m: name 'two_rnn_model' is not defined"
     ]
    }
   ],
   "source": [
    "tf.keras.utils.plot_model(two_rnn_model, to_file='simple_rnn.png', show_shapes=True)"
   ]
  },
  {
   "cell_type": "code",
   "execution_count": 40,
   "id": "6a064921",
   "metadata": {
    "scrolled": true
   },
   "outputs": [],
   "source": [
    "# mcp_save_2 = ModelCheckpoint('rnn_wts.hdf5', save_best_only=True, monitor='val_loss', mode='min')\n",
    "# num_epochs_2 = 20\n",
    "\n",
    "# history_two_rnn = two_rnn_model.fit(X_train_padded, y_train_padded, validation_data = (X_val_padded, y_val_padded), epochs=num_epochs_2, callbacks=[mcp_save_2])"
   ]
  },
  {
   "cell_type": "code",
   "execution_count": 41,
   "id": "1d082e24",
   "metadata": {},
   "outputs": [
    {
     "name": "stdout",
     "output_type": "stream",
     "text": [
      "Base directory changed back to: C:\\Users\\kandp\\OneDrive\\Documents\\Univ_proj\\AI-3\n"
     ]
    }
   ],
   "source": [
    "os.chdir(main_dir)\n",
    "print(f'Base directory changed back to: {main_dir}')"
   ]
  },
  {
   "cell_type": "code",
   "execution_count": 42,
   "id": "7b67c999",
   "metadata": {},
   "outputs": [
    {
     "name": "stdout",
     "output_type": "stream",
     "text": [
      "Base directory changed to: C:\\Users\\kandp\\OneDrive\\Documents\\Univ_proj\\AI-3\\model\\rnn_model\n"
     ]
    }
   ],
   "source": [
    "os.chdir(rnn_dir)\n",
    "print(f'Base directory changed to: {rnn_dir}')"
   ]
  },
  {
   "cell_type": "code",
   "execution_count": 43,
   "id": "785b0e64",
   "metadata": {
    "scrolled": true
   },
   "outputs": [],
   "source": [
    "rnn_model.load_weights('rnn_wts.hdf5')"
   ]
  },
  {
   "cell_type": "code",
   "execution_count": 44,
   "id": "3d4de60a",
   "metadata": {},
   "outputs": [
    {
     "name": "stdout",
     "output_type": "stream",
     "text": [
      "Base directory changed back to: C:\\Users\\kandp\\OneDrive\\Documents\\Univ_proj\\AI-3\n"
     ]
    }
   ],
   "source": [
    "os.chdir(main_dir)\n",
    "print(f'Base directory changed back to: {main_dir}')"
   ]
  },
  {
   "cell_type": "code",
   "execution_count": 65,
   "id": "09f12856",
   "metadata": {
    "scrolled": false
   },
   "outputs": [
    {
     "ename": "ResourceExhaustedError",
     "evalue": "Graph execution error:\n\nDetected at node '15_1_False/dense/Tensordot/MatMul' defined at (most recent call last):\n    File \"C:\\Users\\kandp\\anaconda3\\lib\\runpy.py\", line 197, in _run_module_as_main\n      return _run_code(code, main_globals, None,\n    File \"C:\\Users\\kandp\\anaconda3\\lib\\runpy.py\", line 87, in _run_code\n      exec(code, run_globals)\n    File \"C:\\Users\\kandp\\anaconda3\\lib\\site-packages\\ipykernel_launcher.py\", line 16, in <module>\n      app.launch_new_instance()\n    File \"C:\\Users\\kandp\\anaconda3\\lib\\site-packages\\traitlets\\config\\application.py\", line 846, in launch_instance\n      app.start()\n    File \"C:\\Users\\kandp\\anaconda3\\lib\\site-packages\\ipykernel\\kernelapp.py\", line 677, in start\n      self.io_loop.start()\n    File \"C:\\Users\\kandp\\anaconda3\\lib\\site-packages\\tornado\\platform\\asyncio.py\", line 199, in start\n      self.asyncio_loop.run_forever()\n    File \"C:\\Users\\kandp\\anaconda3\\lib\\asyncio\\base_events.py\", line 601, in run_forever\n      self._run_once()\n    File \"C:\\Users\\kandp\\anaconda3\\lib\\asyncio\\base_events.py\", line 1905, in _run_once\n      handle._run()\n    File \"C:\\Users\\kandp\\anaconda3\\lib\\asyncio\\events.py\", line 80, in _run\n      self._context.run(self._callback, *self._args)\n    File \"C:\\Users\\kandp\\anaconda3\\lib\\site-packages\\ipykernel\\kernelbase.py\", line 471, in dispatch_queue\n      await self.process_one()\n    File \"C:\\Users\\kandp\\anaconda3\\lib\\site-packages\\ipykernel\\kernelbase.py\", line 460, in process_one\n      await dispatch(*args)\n    File \"C:\\Users\\kandp\\anaconda3\\lib\\site-packages\\ipykernel\\kernelbase.py\", line 367, in dispatch_shell\n      await result\n    File \"C:\\Users\\kandp\\anaconda3\\lib\\site-packages\\ipykernel\\kernelbase.py\", line 662, in execute_request\n      reply_content = await reply_content\n    File \"C:\\Users\\kandp\\anaconda3\\lib\\site-packages\\ipykernel\\ipkernel.py\", line 360, in do_execute\n      res = shell.run_cell(code, store_history=store_history, silent=silent)\n    File \"C:\\Users\\kandp\\anaconda3\\lib\\site-packages\\ipykernel\\zmqshell.py\", line 532, in run_cell\n      return super().run_cell(*args, **kwargs)\n    File \"C:\\Users\\kandp\\anaconda3\\lib\\site-packages\\IPython\\core\\interactiveshell.py\", line 2863, in run_cell\n      result = self._run_cell(\n    File \"C:\\Users\\kandp\\anaconda3\\lib\\site-packages\\IPython\\core\\interactiveshell.py\", line 2909, in _run_cell\n      return runner(coro)\n    File \"C:\\Users\\kandp\\anaconda3\\lib\\site-packages\\IPython\\core\\async_helpers.py\", line 129, in _pseudo_sync_runner\n      coro.send(None)\n    File \"C:\\Users\\kandp\\anaconda3\\lib\\site-packages\\IPython\\core\\interactiveshell.py\", line 3106, in run_cell_async\n      has_raised = await self.run_ast_nodes(code_ast.body, cell_name,\n    File \"C:\\Users\\kandp\\anaconda3\\lib\\site-packages\\IPython\\core\\interactiveshell.py\", line 3309, in run_ast_nodes\n      if await self.run_code(code, result, async_=asy):\n    File \"C:\\Users\\kandp\\anaconda3\\lib\\site-packages\\IPython\\core\\interactiveshell.py\", line 3369, in run_code\n      exec(code_obj, self.user_global_ns, self.user_ns)\n    File \"C:\\Users\\kandp\\AppData\\Local\\Temp\\ipykernel_17800\\736025704.py\", line 1, in <cell line: 1>\n      rnn_model.predict(X_val_padded)\n    File \"C:\\Users\\kandp\\anaconda3\\lib\\site-packages\\keras\\utils\\traceback_utils.py\", line 64, in error_handler\n      return fn(*args, **kwargs)\n    File \"C:\\Users\\kandp\\anaconda3\\lib\\site-packages\\keras\\engine\\training.py\", line 2033, in predict\n      tmp_batch_outputs = self.predict_function(iterator)\n    File \"C:\\Users\\kandp\\anaconda3\\lib\\site-packages\\keras\\engine\\training.py\", line 1845, in predict_function\n      return step_function(self, iterator)\n    File \"C:\\Users\\kandp\\anaconda3\\lib\\site-packages\\keras\\engine\\training.py\", line 1834, in step_function\n      outputs = model.distribute_strategy.run(run_step, args=(data,))\n    File \"C:\\Users\\kandp\\anaconda3\\lib\\site-packages\\keras\\engine\\training.py\", line 1823, in run_step\n      outputs = model.predict_step(data)\n    File \"C:\\Users\\kandp\\anaconda3\\lib\\site-packages\\keras\\engine\\training.py\", line 1791, in predict_step\n      return self(x, training=False)\n    File \"C:\\Users\\kandp\\anaconda3\\lib\\site-packages\\keras\\utils\\traceback_utils.py\", line 64, in error_handler\n      return fn(*args, **kwargs)\n    File \"C:\\Users\\kandp\\anaconda3\\lib\\site-packages\\keras\\engine\\training.py\", line 490, in __call__\n      return super().__call__(*args, **kwargs)\n    File \"C:\\Users\\kandp\\anaconda3\\lib\\site-packages\\keras\\utils\\traceback_utils.py\", line 64, in error_handler\n      return fn(*args, **kwargs)\n    File \"C:\\Users\\kandp\\anaconda3\\lib\\site-packages\\keras\\engine\\base_layer.py\", line 1014, in __call__\n      outputs = call_fn(inputs, *args, **kwargs)\n    File \"C:\\Users\\kandp\\anaconda3\\lib\\site-packages\\keras\\utils\\traceback_utils.py\", line 92, in error_handler\n      return fn(*args, **kwargs)\n    File \"C:\\Users\\kandp\\anaconda3\\lib\\site-packages\\keras\\engine\\functional.py\", line 458, in call\n      return self._run_internal_graph(\n    File \"C:\\Users\\kandp\\anaconda3\\lib\\site-packages\\keras\\engine\\functional.py\", line 596, in _run_internal_graph\n      outputs = node.layer(*args, **kwargs)\n    File \"C:\\Users\\kandp\\anaconda3\\lib\\site-packages\\keras\\utils\\traceback_utils.py\", line 64, in error_handler\n      return fn(*args, **kwargs)\n    File \"C:\\Users\\kandp\\anaconda3\\lib\\site-packages\\keras\\engine\\base_layer.py\", line 1014, in __call__\n      outputs = call_fn(inputs, *args, **kwargs)\n    File \"C:\\Users\\kandp\\anaconda3\\lib\\site-packages\\keras\\utils\\traceback_utils.py\", line 92, in error_handler\n      return fn(*args, **kwargs)\n    File \"C:\\Users\\kandp\\anaconda3\\lib\\site-packages\\keras\\layers\\core\\dense.py\", line 224, in call\n      outputs = tf.tensordot(inputs, self.kernel, [[rank - 1], [0]])\nNode: '15_1_False/dense/Tensordot/MatMul'\nOOM when allocating tensor with shape[20576,48993] and type float on /job:localhost/replica:0/task:0/device:GPU:0 by allocator GPU_0_bfc\n\t [[{{node 15_1_False/dense/Tensordot/MatMul}}]]\nHint: If you want to see a list of allocated tensors when OOM happens, add report_tensor_allocations_upon_oom to RunOptions for current allocation info. This isn't available when running in Eager mode.\n [Op:__inference_predict_function_860]",
     "output_type": "error",
     "traceback": [
      "\u001b[1;31m---------------------------------------------------------------------------\u001b[0m",
      "\u001b[1;31mResourceExhaustedError\u001b[0m                    Traceback (most recent call last)",
      "Input \u001b[1;32mIn [65]\u001b[0m, in \u001b[0;36m<cell line: 1>\u001b[1;34m()\u001b[0m\n\u001b[1;32m----> 1\u001b[0m \u001b[43mrnn_model\u001b[49m\u001b[38;5;241;43m.\u001b[39;49m\u001b[43mpredict\u001b[49m\u001b[43m(\u001b[49m\u001b[43mX_val_padded\u001b[49m\u001b[43m)\u001b[49m\n",
      "File \u001b[1;32m~\\anaconda3\\lib\\site-packages\\keras\\utils\\traceback_utils.py:67\u001b[0m, in \u001b[0;36mfilter_traceback.<locals>.error_handler\u001b[1;34m(*args, **kwargs)\u001b[0m\n\u001b[0;32m     65\u001b[0m \u001b[38;5;28;01mexcept\u001b[39;00m \u001b[38;5;167;01mException\u001b[39;00m \u001b[38;5;28;01mas\u001b[39;00m e:  \u001b[38;5;66;03m# pylint: disable=broad-except\u001b[39;00m\n\u001b[0;32m     66\u001b[0m   filtered_tb \u001b[38;5;241m=\u001b[39m _process_traceback_frames(e\u001b[38;5;241m.\u001b[39m__traceback__)\n\u001b[1;32m---> 67\u001b[0m   \u001b[38;5;28;01mraise\u001b[39;00m e\u001b[38;5;241m.\u001b[39mwith_traceback(filtered_tb) \u001b[38;5;28;01mfrom\u001b[39;00m \u001b[38;5;28mNone\u001b[39m\n\u001b[0;32m     68\u001b[0m \u001b[38;5;28;01mfinally\u001b[39;00m:\n\u001b[0;32m     69\u001b[0m   \u001b[38;5;28;01mdel\u001b[39;00m filtered_tb\n",
      "File \u001b[1;32m~\\anaconda3\\lib\\site-packages\\tensorflow\\python\\eager\\execute.py:54\u001b[0m, in \u001b[0;36mquick_execute\u001b[1;34m(op_name, num_outputs, inputs, attrs, ctx, name)\u001b[0m\n\u001b[0;32m     52\u001b[0m \u001b[38;5;28;01mtry\u001b[39;00m:\n\u001b[0;32m     53\u001b[0m   ctx\u001b[38;5;241m.\u001b[39mensure_initialized()\n\u001b[1;32m---> 54\u001b[0m   tensors \u001b[38;5;241m=\u001b[39m pywrap_tfe\u001b[38;5;241m.\u001b[39mTFE_Py_Execute(ctx\u001b[38;5;241m.\u001b[39m_handle, device_name, op_name,\n\u001b[0;32m     55\u001b[0m                                       inputs, attrs, num_outputs)\n\u001b[0;32m     56\u001b[0m \u001b[38;5;28;01mexcept\u001b[39;00m core\u001b[38;5;241m.\u001b[39m_NotOkStatusException \u001b[38;5;28;01mas\u001b[39;00m e:\n\u001b[0;32m     57\u001b[0m   \u001b[38;5;28;01mif\u001b[39;00m name \u001b[38;5;129;01mis\u001b[39;00m \u001b[38;5;129;01mnot\u001b[39;00m \u001b[38;5;28;01mNone\u001b[39;00m:\n",
      "\u001b[1;31mResourceExhaustedError\u001b[0m: Graph execution error:\n\nDetected at node '15_1_False/dense/Tensordot/MatMul' defined at (most recent call last):\n    File \"C:\\Users\\kandp\\anaconda3\\lib\\runpy.py\", line 197, in _run_module_as_main\n      return _run_code(code, main_globals, None,\n    File \"C:\\Users\\kandp\\anaconda3\\lib\\runpy.py\", line 87, in _run_code\n      exec(code, run_globals)\n    File \"C:\\Users\\kandp\\anaconda3\\lib\\site-packages\\ipykernel_launcher.py\", line 16, in <module>\n      app.launch_new_instance()\n    File \"C:\\Users\\kandp\\anaconda3\\lib\\site-packages\\traitlets\\config\\application.py\", line 846, in launch_instance\n      app.start()\n    File \"C:\\Users\\kandp\\anaconda3\\lib\\site-packages\\ipykernel\\kernelapp.py\", line 677, in start\n      self.io_loop.start()\n    File \"C:\\Users\\kandp\\anaconda3\\lib\\site-packages\\tornado\\platform\\asyncio.py\", line 199, in start\n      self.asyncio_loop.run_forever()\n    File \"C:\\Users\\kandp\\anaconda3\\lib\\asyncio\\base_events.py\", line 601, in run_forever\n      self._run_once()\n    File \"C:\\Users\\kandp\\anaconda3\\lib\\asyncio\\base_events.py\", line 1905, in _run_once\n      handle._run()\n    File \"C:\\Users\\kandp\\anaconda3\\lib\\asyncio\\events.py\", line 80, in _run\n      self._context.run(self._callback, *self._args)\n    File \"C:\\Users\\kandp\\anaconda3\\lib\\site-packages\\ipykernel\\kernelbase.py\", line 471, in dispatch_queue\n      await self.process_one()\n    File \"C:\\Users\\kandp\\anaconda3\\lib\\site-packages\\ipykernel\\kernelbase.py\", line 460, in process_one\n      await dispatch(*args)\n    File \"C:\\Users\\kandp\\anaconda3\\lib\\site-packages\\ipykernel\\kernelbase.py\", line 367, in dispatch_shell\n      await result\n    File \"C:\\Users\\kandp\\anaconda3\\lib\\site-packages\\ipykernel\\kernelbase.py\", line 662, in execute_request\n      reply_content = await reply_content\n    File \"C:\\Users\\kandp\\anaconda3\\lib\\site-packages\\ipykernel\\ipkernel.py\", line 360, in do_execute\n      res = shell.run_cell(code, store_history=store_history, silent=silent)\n    File \"C:\\Users\\kandp\\anaconda3\\lib\\site-packages\\ipykernel\\zmqshell.py\", line 532, in run_cell\n      return super().run_cell(*args, **kwargs)\n    File \"C:\\Users\\kandp\\anaconda3\\lib\\site-packages\\IPython\\core\\interactiveshell.py\", line 2863, in run_cell\n      result = self._run_cell(\n    File \"C:\\Users\\kandp\\anaconda3\\lib\\site-packages\\IPython\\core\\interactiveshell.py\", line 2909, in _run_cell\n      return runner(coro)\n    File \"C:\\Users\\kandp\\anaconda3\\lib\\site-packages\\IPython\\core\\async_helpers.py\", line 129, in _pseudo_sync_runner\n      coro.send(None)\n    File \"C:\\Users\\kandp\\anaconda3\\lib\\site-packages\\IPython\\core\\interactiveshell.py\", line 3106, in run_cell_async\n      has_raised = await self.run_ast_nodes(code_ast.body, cell_name,\n    File \"C:\\Users\\kandp\\anaconda3\\lib\\site-packages\\IPython\\core\\interactiveshell.py\", line 3309, in run_ast_nodes\n      if await self.run_code(code, result, async_=asy):\n    File \"C:\\Users\\kandp\\anaconda3\\lib\\site-packages\\IPython\\core\\interactiveshell.py\", line 3369, in run_code\n      exec(code_obj, self.user_global_ns, self.user_ns)\n    File \"C:\\Users\\kandp\\AppData\\Local\\Temp\\ipykernel_17800\\736025704.py\", line 1, in <cell line: 1>\n      rnn_model.predict(X_val_padded)\n    File \"C:\\Users\\kandp\\anaconda3\\lib\\site-packages\\keras\\utils\\traceback_utils.py\", line 64, in error_handler\n      return fn(*args, **kwargs)\n    File \"C:\\Users\\kandp\\anaconda3\\lib\\site-packages\\keras\\engine\\training.py\", line 2033, in predict\n      tmp_batch_outputs = self.predict_function(iterator)\n    File \"C:\\Users\\kandp\\anaconda3\\lib\\site-packages\\keras\\engine\\training.py\", line 1845, in predict_function\n      return step_function(self, iterator)\n    File \"C:\\Users\\kandp\\anaconda3\\lib\\site-packages\\keras\\engine\\training.py\", line 1834, in step_function\n      outputs = model.distribute_strategy.run(run_step, args=(data,))\n    File \"C:\\Users\\kandp\\anaconda3\\lib\\site-packages\\keras\\engine\\training.py\", line 1823, in run_step\n      outputs = model.predict_step(data)\n    File \"C:\\Users\\kandp\\anaconda3\\lib\\site-packages\\keras\\engine\\training.py\", line 1791, in predict_step\n      return self(x, training=False)\n    File \"C:\\Users\\kandp\\anaconda3\\lib\\site-packages\\keras\\utils\\traceback_utils.py\", line 64, in error_handler\n      return fn(*args, **kwargs)\n    File \"C:\\Users\\kandp\\anaconda3\\lib\\site-packages\\keras\\engine\\training.py\", line 490, in __call__\n      return super().__call__(*args, **kwargs)\n    File \"C:\\Users\\kandp\\anaconda3\\lib\\site-packages\\keras\\utils\\traceback_utils.py\", line 64, in error_handler\n      return fn(*args, **kwargs)\n    File \"C:\\Users\\kandp\\anaconda3\\lib\\site-packages\\keras\\engine\\base_layer.py\", line 1014, in __call__\n      outputs = call_fn(inputs, *args, **kwargs)\n    File \"C:\\Users\\kandp\\anaconda3\\lib\\site-packages\\keras\\utils\\traceback_utils.py\", line 92, in error_handler\n      return fn(*args, **kwargs)\n    File \"C:\\Users\\kandp\\anaconda3\\lib\\site-packages\\keras\\engine\\functional.py\", line 458, in call\n      return self._run_internal_graph(\n    File \"C:\\Users\\kandp\\anaconda3\\lib\\site-packages\\keras\\engine\\functional.py\", line 596, in _run_internal_graph\n      outputs = node.layer(*args, **kwargs)\n    File \"C:\\Users\\kandp\\anaconda3\\lib\\site-packages\\keras\\utils\\traceback_utils.py\", line 64, in error_handler\n      return fn(*args, **kwargs)\n    File \"C:\\Users\\kandp\\anaconda3\\lib\\site-packages\\keras\\engine\\base_layer.py\", line 1014, in __call__\n      outputs = call_fn(inputs, *args, **kwargs)\n    File \"C:\\Users\\kandp\\anaconda3\\lib\\site-packages\\keras\\utils\\traceback_utils.py\", line 92, in error_handler\n      return fn(*args, **kwargs)\n    File \"C:\\Users\\kandp\\anaconda3\\lib\\site-packages\\keras\\layers\\core\\dense.py\", line 224, in call\n      outputs = tf.tensordot(inputs, self.kernel, [[rank - 1], [0]])\nNode: '15_1_False/dense/Tensordot/MatMul'\nOOM when allocating tensor with shape[20576,48993] and type float on /job:localhost/replica:0/task:0/device:GPU:0 by allocator GPU_0_bfc\n\t [[{{node 15_1_False/dense/Tensordot/MatMul}}]]\nHint: If you want to see a list of allocated tensors when OOM happens, add report_tensor_allocations_upon_oom to RunOptions for current allocation info. This isn't available when running in Eager mode.\n [Op:__inference_predict_function_860]"
     ]
    }
   ],
   "source": [
    "rnn_model.predict(X_val_padded)"
   ]
  },
  {
   "cell_type": "code",
   "execution_count": 46,
   "id": "eb58268f",
   "metadata": {},
   "outputs": [
    {
     "name": "stdout",
     "output_type": "stream",
     "text": [
      "Model: \"8_2_False\"\n",
      "__________________________________________________________________________________________________\n",
      " Layer (type)                   Output Shape         Param #     Connected to                     \n",
      "==================================================================================================\n",
      " sentence_input (InputLayer)    [(None, None)]       0           []                               \n",
      "                                                                                                  \n",
      " word_embedding (Embedding)     (None, None, 30)     1469790     ['sentence_input[0][0]']         \n",
      "                                                                                                  \n",
      " simple_rnn (SimpleRNN)         (None, None, 8)      312         ['word_embedding[0][0]']         \n",
      "                                                                                                  \n",
      " simple_rnn_1 (SimpleRNN)       (None, None, 8)      136         ['simple_rnn[0][0]']             \n",
      "                                                                                                  \n",
      " concatenate (Concatenate)      (None, None, 16)     0           ['simple_rnn[0][0]',             \n",
      "                                                                  'simple_rnn_1[0][0]']           \n",
      "                                                                                                  \n",
      " dense (Dense)                  (None, None, 48993)  832881      ['concatenate[0][0]']            \n",
      "                                                                                                  \n",
      "==================================================================================================\n",
      "Total params: 2,303,119\n",
      "Trainable params: 833,329\n",
      "Non-trainable params: 1,469,790\n",
      "__________________________________________________________________________________________________\n"
     ]
    }
   ],
   "source": [
    "hidden_size = 8\n",
    "num_layers = 2\n",
    "embed_matrix = w2v_embedding\n",
    "rnn_baseline = make_model(hidden_size, num_layers, bidir = False)\n",
    "rnn_baseline.summary()"
   ]
  },
  {
   "cell_type": "code",
   "execution_count": 48,
   "id": "a5977d89",
   "metadata": {},
   "outputs": [
    {
     "data": {
      "image/png": "[encoded data removed]",
      "text/plain": [
       "<IPython.core.display.Image object>"
      ]
     },
     "execution_count": 48,
     "metadata": {},
     "output_type": "execute_result"
    }
   ],
   "source": [
    "tf.keras.utils.plot_model(rnn_baseline, to_file='simple_rnn.png', show_shapes=True)"
   ]
  }
 ],
 "metadata": {
  "kernelspec": {
   "display_name": "Python 3 (ipykernel)",
   "language": "python",
   "name": "python3"
  },
  "language_info": {
   "codemirror_mode": {
    "name": "ipython",
    "version": 3
   },
   "file_extension": ".py",
   "mimetype": "text/x-python",
   "name": "python",
   "nbconvert_exporter": "python",
   "pygments_lexer": "ipython3",
   "version": "3.9.12"
  }
 },
 "nbformat": 4,
 "nbformat_minor": 5
}
